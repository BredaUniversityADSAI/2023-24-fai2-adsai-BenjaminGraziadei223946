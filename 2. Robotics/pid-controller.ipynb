{
 "cells": [
  {
   "cell_type": "code",
   "execution_count": 1,
   "metadata": {},
   "outputs": [],
   "source": [
    "import numpy as np"
   ]
  },
  {
   "cell_type": "code",
   "execution_count": 2,
   "metadata": {},
   "outputs": [],
   "source": [
    "class PIDController:\n",
    "    def __init__(self, kp, ki, kd):\n",
    "        self.kp = kp  # Proportional gain\n",
    "        self.ki = ki  # Integral gain\n",
    "        self.kd = kd  # Derivative gain\n",
    "        self.integral = np.array([0.0, 0.0, 0.0])\n",
    "        self.prev_error = np.array([0.0, 0.0, 0.0])\n",
    "\n",
    "    def update(self, current_pos, goal_pos, dt=1.0):\n",
    "        error = goal_pos - current_pos\n",
    "        self.integral += error * dt\n",
    "        derivative = (error - self.prev_error) / dt\n",
    "        self.prev_error = error\n",
    "\n",
    "        # PID output\n",
    "        output = self.kp * error + self.ki * self.integral + self.kd * derivative\n",
    "        return output\n"
   ]
  },
  {
   "cell_type": "code",
   "execution_count": 3,
   "metadata": {},
   "outputs": [
    {
     "name": "stdout",
     "output_type": "stream",
     "text": [
      "Goal reached in 23 steps\n"
     ]
    }
   ],
   "source": [
    "# Initialize the PID controller with appropriate gains\n",
    "pid = PIDController(kp=1.0, ki=0.1, kd=0.05)  # Adjust these values based on your system\n",
    "\n",
    "# Simulation parameters\n",
    "current_position = np.array([0.0, 0.0, 0.0])  # Starting position of the pipette\n",
    "goal_position = np.array([np.random.uniform(-0.1872, 0.253),\n",
    "                        np.random.uniform(-0.1705, 0.2195),\n",
    "                        np.random.uniform(0.1693, 0.2895)], dtype=np.float32)\n",
    "dt = 0.1  # Time step for the simulation\n",
    "max_steps = 1000  # Maximum number of steps in the simulation\n",
    "\n",
    "for step in range(max_steps):\n",
    "    # Update the PID controller\n",
    "    action = pid.update(current_position, goal_position, dt)\n",
    "\n",
    "    # Simulate the pipette movement (this is a simple approximation)\n",
    "    current_position += action * dt\n",
    "\n",
    "    # Check if the goal is reached (within a small threshold)\n",
    "    if np.linalg.norm(current_position - goal_position) < 0.01:\n",
    "        print(f\"Goal reached in {step} steps\")\n",
    "        break\n"
   ]
  }
 ],
 "metadata": {
  "kernelspec": {
   "display_name": "cv",
   "language": "python",
   "name": "python3"
  },
  "language_info": {
   "codemirror_mode": {
    "name": "ipython",
    "version": 3
   },
   "file_extension": ".py",
   "mimetype": "text/x-python",
   "name": "python",
   "nbconvert_exporter": "python",
   "pygments_lexer": "ipython3",
   "version": "3.9.18"
  }
 },
 "nbformat": 4,
 "nbformat_minor": 2
}
