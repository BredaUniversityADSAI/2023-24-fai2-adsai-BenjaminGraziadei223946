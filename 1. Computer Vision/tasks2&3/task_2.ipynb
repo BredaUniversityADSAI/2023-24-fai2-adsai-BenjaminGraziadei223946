{
 "cells": [
  {
   "cell_type": "code",
   "execution_count": 2,
   "metadata": {},
   "outputs": [],
   "source": [
    "import cv2\n",
    "import skimage\n",
    "import matplotlib.pyplot as plt\n",
    "import numpy as np\n",
    "import os"
   ]
  },
  {
   "cell_type": "code",
   "execution_count": 3,
   "metadata": {},
   "outputs": [
    {
     "name": "stdout",
     "output_type": "stream",
     "text": [
      "C:\\Users\\benjm\\Downloads\\Workspace\\final\\cut\n"
     ]
    }
   ],
   "source": [
    "folder = r\"C:\\Users\\benjm\\Downloads\\Workspace\\final\"       # run for both test and train\n",
    "mask_folder = r\"C:\\Users\\benjm\\Downloads\\Workspace\\Masks\"\n",
    "mask_ending = ['_occluded_root_mask.tif', '_root_mask.tif', '_shoot_mask.tif', '_seed_mask.tif']\n",
    "measurement = True\n",
    "\n",
    "for image in os.listdir(folder):\n",
    "    image_path = os.path.join(folder, image)\n",
    "    im = cv2.imread(image_path, 0)\n",
    "    if not(im is None):\n",
    "        im = cv2.medianBlur(im, 5)\n",
    "        th, output_im = cv2.threshold(im, 10, 255, cv2.THRESH_BINARY)\n",
    "        output_im = cv2.dilate(output_im, np.ones((3, 3), np.uint8), iterations=3)\n",
    "        output_im = cv2.erode(output_im, np.ones((3, 3), np.uint8), iterations=10)\n",
    "\n",
    "        retval, labels, stats, centroids = cv2.connectedComponentsWithStats(output_im)\n",
    "\n",
    "        largest_label = 1 + np.argmax(stats[1:, cv2.CC_STAT_AREA])\n",
    "\n",
    "        x,y,w,h,_ = stats[largest_label]\n",
    "        top_left = (x,y)\n",
    "        bottom_right = (x+w,y+h)\n",
    "        \n",
    "        im = im[y:y+h, x:x+w]\n",
    "        output_path = os.path.join(folder + r\"\\cut\", image)\n",
    "        im = cv2.imwrite(output_path, im)\n",
    "        if measurement:\n",
    "            continue\n",
    "        for mask in mask_ending:\n",
    "            name = image.split(\".\")[0] + mask\n",
    "            mask_path = os.path.join(mask_folder, name)\n",
    "            mask_im = cv2.imread(mask_path, 0)\n",
    "            if not(mask_im is None):\n",
    "                mask_im = mask_im[y:y+h, x:x+w]\n",
    "                output_path = os.path.join(mask_folder + r\"\\cut\", name)\n",
    "                mask_im = cv2.imwrite(output_path, mask_im)\n",
    "            else:\n",
    "                print(mask_path)\n",
    "    else:\n",
    "        print(image_path)\n",
    "    "
   ]
  },
  {
   "cell_type": "code",
   "execution_count": 3,
   "metadata": {},
   "outputs": [
    {
     "name": "stdout",
     "output_type": "stream",
     "text": [
      "True\n"
     ]
    }
   ],
   "source": [
    "print(len(os.listdir(r\"C:\\Users\\benjm\\Downloads\\Workspace\\train\")) + len(os.listdir(r\"C:\\Users\\benjm\\Downloads\\Workspace\\test\")) -2 == len(os.listdir(r\"C:\\Users\\benjm\\Downloads\\Workspace\\train\\cut\")) + len(os.listdir(r\"C:\\Users\\benjm\\Downloads\\Workspace\\test\\cut\")))"
   ]
  }
 ],
 "metadata": {
  "kernelspec": {
   "display_name": "Python 3",
   "language": "python",
   "name": "python3"
  },
  "language_info": {
   "codemirror_mode": {
    "name": "ipython",
    "version": 3
   },
   "file_extension": ".py",
   "mimetype": "text/x-python",
   "name": "python",
   "nbconvert_exporter": "python",
   "pygments_lexer": "ipython3",
   "version": "3.9.18"
  }
 },
 "nbformat": 4,
 "nbformat_minor": 2
}
